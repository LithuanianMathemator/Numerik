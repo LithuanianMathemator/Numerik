{
 "cells": [
  {
   "cell_type": "code",
   "execution_count": 1,
   "metadata": {},
   "outputs": [],
   "source": [
    "#imports\n",
    "import numpy as np\n",
    "import matplotlib.pyplot as plt"
   ]
  },
  {
   "cell_type": "code",
   "execution_count": 19,
   "metadata": {},
   "outputs": [],
   "source": [
    "#utility\n",
    "\n",
    "def load_images():\n",
    "    imgs = np.fromfile('train-images-idx3-ubyte', dtype=np.uint8)\n",
    "    imgs = np.reshape(imgs[16:], [-1, 28, 28])\n",
    "    return imgs\n",
    "\n",
    "def load_labels():\n",
    "    labs = np.fromfile('train-labels-idx1-ubyte', dtype=np.uint8)\n",
    "    labs = labs[8:]\n",
    "    return labs\n",
    "\n",
    "def load_data(n=-1):\n",
    "    imgs = load_images()\n",
    "    labs = load_labels()\n",
    "    l = len(imgs)\n",
    "    numbers = [[] for i in range(10)]\n",
    "    for i in range(l):\n",
    "        numbers[labs[i]].append(imgs[i])\n",
    "    for i in range(10):\n",
    "        numbers[i] = numbers[i][:100]\n",
    "    return numbers\n",
    "    \n"
   ]
  },
  {
   "cell_type": "code",
   "execution_count": 12,
   "metadata": {},
   "outputs": [],
   "source": [
    "#Aufgabe 1\n",
    "\n",
    "def mean(A):\n",
    "    # A as set of pictures\n",
    "    N = len(A)\n",
    "    pxl = np.copy(A[0])\n",
    "    for i in range(1, N):\n",
    "        pxl += A[i]\n",
    "    b = (1/N) * pxl\n",
    "    return b\n",
    "\n",
    "def variance(A):\n",
    "    # A as set of pictures\n",
    "    N = len(A)\n",
    "    # mean for squared difference\n",
    "    b = mean(A)\n",
    "    pxl = np.square(A[0] - b)\n",
    "    for i in range(1, N):\n",
    "        pxl += np.square(A[i] - b)\n",
    "    V = (1/N) * pxl\n",
    "    return V\n",
    "\n",
    "numbers = load_data()\n",
    "\n",
    "for i in range(10):\n",
    "    plt.imshow(mean(numbers[i]), cmap = 'gray')\n",
    "    plt.title(\"Mittelwert für \" + str(i) + \"!\")\n",
    "    plt.show()\n",
    "\n",
    "    plt.imshow(variance(numbers[i]), cmap = 'gray')\n",
    "    plt.title(\"Varianz für \" + str(i) + \"!\")\n",
    "    plt.show()"
   ]
  },
  {
   "cell_type": "code",
   "execution_count": null,
   "metadata": {},
   "outputs": [],
   "source": [
    "#Aufgabe 2"
   ]
  },
  {
   "cell_type": "code",
   "execution_count": null,
   "metadata": {},
   "outputs": [],
   "source": [
    "#Aufgabe 3"
   ]
  },
  {
   "cell_type": "code",
   "execution_count": null,
   "metadata": {},
   "outputs": [],
   "source": [
    "#Aufgabe 4"
   ]
  }
 ],
 "metadata": {
  "interpreter": {
   "hash": "b59a2eb96e06ba9d6d7d3252f34b375919cc0037daba4c4458411d1bc9e8498a"
  },
  "kernelspec": {
   "display_name": "Python 3.9.0 64-bit ('py39': venv)",
   "language": "python",
   "name": "python3"
  },
  "language_info": {
   "codemirror_mode": {
    "name": "ipython",
    "version": 3
   },
   "file_extension": ".py",
   "mimetype": "text/x-python",
   "name": "python",
   "nbconvert_exporter": "python",
   "pygments_lexer": "ipython3",
   "version": "3.9.0"
  },
  "orig_nbformat": 4
 },
 "nbformat": 4,
 "nbformat_minor": 2
}
