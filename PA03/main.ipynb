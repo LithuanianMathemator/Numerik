{
 "cells": [
  {
   "cell_type": "code",
   "execution_count": null,
   "metadata": {},
   "outputs": [],
   "source": [
    "#imports\n",
    "import numpy as np\n",
    "import matplotlib.pyplot as plt"
   ]
  },
  {
   "cell_type": "code",
   "execution_count": null,
   "metadata": {},
   "outputs": [],
   "source": [
    "#Aufgabe 1\n",
    "\n",
    "def mean(A):\n",
    "\n",
    "    # A as set of pictures\n",
    "\n",
    "    N = len(A)\n",
    "\n",
    "    pxl = np.copy(A[0])\n",
    "\n",
    "    for i in range(1, N):\n",
    "\n",
    "        pxl += A[i]\n",
    "\n",
    "    b = (1/N) * pxl\n",
    "\n",
    "    return b\n",
    "\n",
    "def variance(A):\n",
    "\n",
    "    # A as set of pictures\n",
    "\n",
    "    N = len(A)\n",
    "\n",
    "    # mean for squared difference\n",
    "    b = mean(A)\n",
    "\n",
    "    pxl = np.square(A[0] - b)\n",
    "\n",
    "    for i in range(1, N):\n",
    "\n",
    "        pxl += np.square(A[i] - b)\n",
    "\n",
    "    V = (1/N) * pxl\n",
    "\n",
    "    return V"
   ]
  },
  {
   "cell_type": "code",
   "execution_count": null,
   "metadata": {},
   "outputs": [],
   "source": [
    "#Test 1\n",
    "imgs = np.fromfile('train-images-idx3-ubyte', dtype=np.uint8)\n",
    "imgs = np.reshape(imgs[16:], [-1, 28, 28])\n",
    "\n",
    "labs = np.fromfile('train-labels-idx1-ubyte', dtype=np.uint8)\n",
    "labs = labs[8:]\n",
    "\n",
    "# list for pictures of each number\n",
    "numbers = [[] for i in range(10)]\n",
    "\n",
    "N = len(imgs)\n",
    "\n",
    "# distributing pictures\n",
    "for i in range(N):\n",
    "\n",
    "    numbers[labs[i]].append(imgs[i])\n",
    "\n",
    "# slicing for 100 pictures each\n",
    "for i in range(10):\n",
    "\n",
    "    numbers[i] = numbers[i][:100]\n",
    "\n",
    "for i in range(10):\n",
    "\n",
    "    plt.imshow(mean(numbers[i]), cmap = 'gray')\n",
    "    plt.title(\"Mittelwert für \" + str(i) + \"!\")\n",
    "    plt.show()\n",
    "\n",
    "    plt.imshow(variance(numbers[i]), cmap = 'gray')\n",
    "    plt.title(\"Varianz für \" + str(i) + \"!\")\n",
    "    plt.show()"
   ]
  }
 ],
 "metadata": {
  "language_info": {
   "name": "python"
  },
  "orig_nbformat": 4
 },
 "nbformat": 4,
 "nbformat_minor": 2
}
